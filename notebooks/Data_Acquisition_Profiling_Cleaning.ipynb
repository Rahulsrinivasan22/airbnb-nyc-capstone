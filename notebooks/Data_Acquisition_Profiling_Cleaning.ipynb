{
 "cells": [
  {
   "cell_type": "markdown",
   "id": "b9ae0bce",
   "metadata": {},
   "source": [
    "📊 Airbnb NYC Data Cleaning Notebook\n",
    "Author: Rahul Srinivasan\n",
    "Objective: Clean and preprocess the raw dataset for analysis and visualization"
   ]
  },
  {
   "cell_type": "code",
   "execution_count": 22,
   "id": "3cb43993",
   "metadata": {},
   "outputs": [
    {
     "name": "stderr",
     "output_type": "stream",
     "text": [
      "C:\\Users\\USER\\AppData\\Local\\Temp\\ipykernel_13984\\816577424.py:4: DtypeWarning: Columns (25) have mixed types. Specify dtype option on import or set low_memory=False.\n",
      "  df = pd.read_csv(\"../data/raw/Airbnb_Open_Data.csv\")\n"
     ]
    },
    {
     "data": {
      "text/html": [
       "<div>\n",
       "<style scoped>\n",
       "    .dataframe tbody tr th:only-of-type {\n",
       "        vertical-align: middle;\n",
       "    }\n",
       "\n",
       "    .dataframe tbody tr th {\n",
       "        vertical-align: top;\n",
       "    }\n",
       "\n",
       "    .dataframe thead th {\n",
       "        text-align: right;\n",
       "    }\n",
       "</style>\n",
       "<table border=\"1\" class=\"dataframe\">\n",
       "  <thead>\n",
       "    <tr style=\"text-align: right;\">\n",
       "      <th></th>\n",
       "      <th>id</th>\n",
       "      <th>NAME</th>\n",
       "      <th>host id</th>\n",
       "      <th>host_identity_verified</th>\n",
       "      <th>host name</th>\n",
       "      <th>neighbourhood group</th>\n",
       "      <th>neighbourhood</th>\n",
       "      <th>lat</th>\n",
       "      <th>long</th>\n",
       "      <th>country</th>\n",
       "      <th>...</th>\n",
       "      <th>service fee</th>\n",
       "      <th>minimum nights</th>\n",
       "      <th>number of reviews</th>\n",
       "      <th>last review</th>\n",
       "      <th>reviews per month</th>\n",
       "      <th>review rate number</th>\n",
       "      <th>calculated host listings count</th>\n",
       "      <th>availability 365</th>\n",
       "      <th>house_rules</th>\n",
       "      <th>license</th>\n",
       "    </tr>\n",
       "  </thead>\n",
       "  <tbody>\n",
       "    <tr>\n",
       "      <th>0</th>\n",
       "      <td>1001254</td>\n",
       "      <td>Clean &amp; quiet apt home by the park</td>\n",
       "      <td>80014485718</td>\n",
       "      <td>unconfirmed</td>\n",
       "      <td>Madaline</td>\n",
       "      <td>Brooklyn</td>\n",
       "      <td>Kensington</td>\n",
       "      <td>40.64749</td>\n",
       "      <td>-73.97237</td>\n",
       "      <td>United States</td>\n",
       "      <td>...</td>\n",
       "      <td>$193</td>\n",
       "      <td>10.0</td>\n",
       "      <td>9.0</td>\n",
       "      <td>10/19/2021</td>\n",
       "      <td>0.21</td>\n",
       "      <td>4.0</td>\n",
       "      <td>6.0</td>\n",
       "      <td>286.0</td>\n",
       "      <td>Clean up and treat the home the way you'd like...</td>\n",
       "      <td>NaN</td>\n",
       "    </tr>\n",
       "    <tr>\n",
       "      <th>1</th>\n",
       "      <td>1002102</td>\n",
       "      <td>Skylit Midtown Castle</td>\n",
       "      <td>52335172823</td>\n",
       "      <td>verified</td>\n",
       "      <td>Jenna</td>\n",
       "      <td>Manhattan</td>\n",
       "      <td>Midtown</td>\n",
       "      <td>40.75362</td>\n",
       "      <td>-73.98377</td>\n",
       "      <td>United States</td>\n",
       "      <td>...</td>\n",
       "      <td>$28</td>\n",
       "      <td>30.0</td>\n",
       "      <td>45.0</td>\n",
       "      <td>5/21/2022</td>\n",
       "      <td>0.38</td>\n",
       "      <td>4.0</td>\n",
       "      <td>2.0</td>\n",
       "      <td>228.0</td>\n",
       "      <td>Pet friendly but please confirm with me if the...</td>\n",
       "      <td>NaN</td>\n",
       "    </tr>\n",
       "  </tbody>\n",
       "</table>\n",
       "<p>2 rows × 26 columns</p>\n",
       "</div>"
      ],
      "text/plain": [
       "        id                                NAME      host id  \\\n",
       "0  1001254  Clean & quiet apt home by the park  80014485718   \n",
       "1  1002102               Skylit Midtown Castle  52335172823   \n",
       "\n",
       "  host_identity_verified host name neighbourhood group neighbourhood  \\\n",
       "0            unconfirmed  Madaline            Brooklyn    Kensington   \n",
       "1               verified     Jenna           Manhattan       Midtown   \n",
       "\n",
       "        lat      long        country  ... service fee minimum nights  \\\n",
       "0  40.64749 -73.97237  United States  ...       $193            10.0   \n",
       "1  40.75362 -73.98377  United States  ...        $28            30.0   \n",
       "\n",
       "  number of reviews last review  reviews per month review rate number  \\\n",
       "0               9.0  10/19/2021               0.21                4.0   \n",
       "1              45.0   5/21/2022               0.38                4.0   \n",
       "\n",
       "  calculated host listings count  availability 365  \\\n",
       "0                            6.0             286.0   \n",
       "1                            2.0             228.0   \n",
       "\n",
       "                                         house_rules license  \n",
       "0  Clean up and treat the home the way you'd like...     NaN  \n",
       "1  Pet friendly but please confirm with me if the...     NaN  \n",
       "\n",
       "[2 rows x 26 columns]"
      ]
     },
     "execution_count": 22,
     "metadata": {},
     "output_type": "execute_result"
    }
   ],
   "source": [
    "import pandas as pd\n",
    "import numpy as np\n",
    "\n",
    "df = pd.read_csv(\"../data/raw/Airbnb_Open_Data.csv\")\n",
    "\n",
    "df.head(2)"
   ]
  },
  {
   "cell_type": "markdown",
   "id": "e99c2976",
   "metadata": {
    "notebookRunGroups": {
     "groupValue": "1"
    }
   },
   "source": [
    "**finding the total conut of null values based on each columns**"
   ]
  },
  {
   "cell_type": "code",
   "execution_count": 23,
   "id": "c380ab86",
   "metadata": {},
   "outputs": [
    {
     "data": {
      "text/plain": [
       "license                           102597\n",
       "house_rules                        52131\n",
       "last review                        15893\n",
       "reviews per month                  15879\n",
       "country                              532\n",
       "availability 365                     448\n",
       "minimum nights                       409\n",
       "host name                            406\n",
       "review rate number                   326\n",
       "calculated host listings count       319\n",
       "host_identity_verified               289\n",
       "service fee                          273\n",
       "NAME                                 250\n",
       "price                                247\n",
       "Construction year                    214\n",
       "number of reviews                    183\n",
       "country code                         131\n",
       "instant_bookable                     105\n",
       "cancellation_policy                   76\n",
       "neighbourhood group                   29\n",
       "neighbourhood                         16\n",
       "long                                   8\n",
       "lat                                    8\n",
       "id                                     0\n",
       "host id                                0\n",
       "room type                              0\n",
       "dtype: int64"
      ]
     },
     "execution_count": 23,
     "metadata": {},
     "output_type": "execute_result"
    }
   ],
   "source": [
    "df.isnull().sum().sort_values(ascending=False)"
   ]
  },
  {
   "cell_type": "markdown",
   "id": "0214017c",
   "metadata": {},
   "source": [
    "Creating a copy of data frame"
   ]
  },
  {
   "cell_type": "code",
   "execution_count": 24,
   "id": "1b8274f5",
   "metadata": {},
   "outputs": [
    {
     "name": "stdout",
     "output_type": "stream",
     "text": [
      "<class 'pandas.core.frame.DataFrame'>\n",
      "RangeIndex: 102599 entries, 0 to 102598\n",
      "Data columns (total 26 columns):\n",
      " #   Column                          Non-Null Count   Dtype  \n",
      "---  ------                          --------------   -----  \n",
      " 0   id                              102599 non-null  int64  \n",
      " 1   NAME                            102349 non-null  object \n",
      " 2   host id                         102599 non-null  int64  \n",
      " 3   host_identity_verified          102310 non-null  object \n",
      " 4   host name                       102193 non-null  object \n",
      " 5   neighbourhood group             102570 non-null  object \n",
      " 6   neighbourhood                   102583 non-null  object \n",
      " 7   lat                             102591 non-null  float64\n",
      " 8   long                            102591 non-null  float64\n",
      " 9   country                         102067 non-null  object \n",
      " 10  country code                    102468 non-null  object \n",
      " 11  instant_bookable                102494 non-null  object \n",
      " 12  cancellation_policy             102523 non-null  object \n",
      " 13  room type                       102599 non-null  object \n",
      " 14  Construction year               102385 non-null  float64\n",
      " 15  price                           102352 non-null  object \n",
      " 16  service fee                     102326 non-null  object \n",
      " 17  minimum nights                  102190 non-null  float64\n",
      " 18  number of reviews               102416 non-null  float64\n",
      " 19  last review                     86706 non-null   object \n",
      " 20  reviews per month               86720 non-null   float64\n",
      " 21  review rate number              102273 non-null  float64\n",
      " 22  calculated host listings count  102280 non-null  float64\n",
      " 23  availability 365                102151 non-null  float64\n",
      " 24  house_rules                     50468 non-null   object \n",
      " 25  license                         2 non-null       object \n",
      "dtypes: float64(9), int64(2), object(15)\n",
      "memory usage: 20.4+ MB\n"
     ]
    }
   ],
   "source": [
    "df_cleaned = df.copy()\n",
    "df_cleaned.info()"
   ]
  },
  {
   "cell_type": "markdown",
   "id": "454c3c84",
   "metadata": {},
   "source": [
    "converting last review into datetime data type"
   ]
  },
  {
   "cell_type": "code",
   "execution_count": 25,
   "id": "84948be1",
   "metadata": {},
   "outputs": [
    {
     "data": {
      "text/plain": [
       "0    966.0\n",
       "1    142.0\n",
       "Name: price, dtype: float64"
      ]
     },
     "execution_count": 25,
     "metadata": {},
     "output_type": "execute_result"
    }
   ],
   "source": [
    "df_cleaned['last review'] = pd.to_datetime(df_cleaned['last review'], errors = 'coerce')\n",
    "\n",
    "df_cleaned['price'] = df_cleaned['price'].replace(r'[\\$,]', '', regex=True)\n",
    "\n",
    "df_cleaned['price'] = pd.to_numeric(df_cleaned['price'], errors='coerce')\n",
    "# df_cleaned.info()\n",
    "\n",
    "df_cleaned['price'].head(2)"
   ]
  },
  {
   "cell_type": "markdown",
   "id": "ea4f64e5",
   "metadata": {},
   "source": [
    "A binary feature had_review was engineered to flag listings with missing or present last_review values, enhancing our ability to analyze and segment data without loss of row-level detail"
   ]
  },
  {
   "cell_type": "code",
   "execution_count": 26,
   "id": "619ac6f3",
   "metadata": {},
   "outputs": [],
   "source": [
    "df_cleaned['had_review'] = df_cleaned['last review'].notnull().astype(int)"
   ]
  },
  {
   "cell_type": "markdown",
   "id": "30192390",
   "metadata": {},
   "source": [
    "creating a function to get the required deatils of columns"
   ]
  },
  {
   "cell_type": "code",
   "execution_count": 27,
   "id": "22144e7a",
   "metadata": {},
   "outputs": [
    {
     "data": {
      "text/html": [
       "<div>\n",
       "<style scoped>\n",
       "    .dataframe tbody tr th:only-of-type {\n",
       "        vertical-align: middle;\n",
       "    }\n",
       "\n",
       "    .dataframe tbody tr th {\n",
       "        vertical-align: top;\n",
       "    }\n",
       "\n",
       "    .dataframe thead th {\n",
       "        text-align: right;\n",
       "    }\n",
       "</style>\n",
       "<table border=\"1\" class=\"dataframe\">\n",
       "  <thead>\n",
       "    <tr style=\"text-align: right;\">\n",
       "      <th></th>\n",
       "      <th>Data Type</th>\n",
       "      <th>Missing Count</th>\n",
       "      <th>Missing %</th>\n",
       "      <th>Unique Values</th>\n",
       "    </tr>\n",
       "  </thead>\n",
       "  <tbody>\n",
       "    <tr>\n",
       "      <th>license</th>\n",
       "      <td>object</td>\n",
       "      <td>102597</td>\n",
       "      <td>99.998051</td>\n",
       "      <td>1</td>\n",
       "    </tr>\n",
       "    <tr>\n",
       "      <th>house_rules</th>\n",
       "      <td>object</td>\n",
       "      <td>52131</td>\n",
       "      <td>50.810437</td>\n",
       "      <td>1976</td>\n",
       "    </tr>\n",
       "    <tr>\n",
       "      <th>last review</th>\n",
       "      <td>datetime64[ns]</td>\n",
       "      <td>15893</td>\n",
       "      <td>15.490404</td>\n",
       "      <td>2477</td>\n",
       "    </tr>\n",
       "    <tr>\n",
       "      <th>reviews per month</th>\n",
       "      <td>float64</td>\n",
       "      <td>15879</td>\n",
       "      <td>15.476759</td>\n",
       "      <td>1016</td>\n",
       "    </tr>\n",
       "    <tr>\n",
       "      <th>country</th>\n",
       "      <td>object</td>\n",
       "      <td>532</td>\n",
       "      <td>0.518524</td>\n",
       "      <td>1</td>\n",
       "    </tr>\n",
       "    <tr>\n",
       "      <th>availability 365</th>\n",
       "      <td>float64</td>\n",
       "      <td>448</td>\n",
       "      <td>0.436651</td>\n",
       "      <td>438</td>\n",
       "    </tr>\n",
       "    <tr>\n",
       "      <th>minimum nights</th>\n",
       "      <td>float64</td>\n",
       "      <td>409</td>\n",
       "      <td>0.398639</td>\n",
       "      <td>153</td>\n",
       "    </tr>\n",
       "    <tr>\n",
       "      <th>host name</th>\n",
       "      <td>object</td>\n",
       "      <td>406</td>\n",
       "      <td>0.395715</td>\n",
       "      <td>13190</td>\n",
       "    </tr>\n",
       "    <tr>\n",
       "      <th>review rate number</th>\n",
       "      <td>float64</td>\n",
       "      <td>326</td>\n",
       "      <td>0.317742</td>\n",
       "      <td>5</td>\n",
       "    </tr>\n",
       "    <tr>\n",
       "      <th>calculated host listings count</th>\n",
       "      <td>float64</td>\n",
       "      <td>319</td>\n",
       "      <td>0.310919</td>\n",
       "      <td>78</td>\n",
       "    </tr>\n",
       "    <tr>\n",
       "      <th>host_identity_verified</th>\n",
       "      <td>object</td>\n",
       "      <td>289</td>\n",
       "      <td>0.281679</td>\n",
       "      <td>2</td>\n",
       "    </tr>\n",
       "    <tr>\n",
       "      <th>service fee</th>\n",
       "      <td>object</td>\n",
       "      <td>273</td>\n",
       "      <td>0.266084</td>\n",
       "      <td>231</td>\n",
       "    </tr>\n",
       "    <tr>\n",
       "      <th>NAME</th>\n",
       "      <td>object</td>\n",
       "      <td>250</td>\n",
       "      <td>0.243667</td>\n",
       "      <td>61281</td>\n",
       "    </tr>\n",
       "    <tr>\n",
       "      <th>price</th>\n",
       "      <td>float64</td>\n",
       "      <td>247</td>\n",
       "      <td>0.240743</td>\n",
       "      <td>1151</td>\n",
       "    </tr>\n",
       "    <tr>\n",
       "      <th>Construction year</th>\n",
       "      <td>float64</td>\n",
       "      <td>214</td>\n",
       "      <td>0.208579</td>\n",
       "      <td>20</td>\n",
       "    </tr>\n",
       "    <tr>\n",
       "      <th>number of reviews</th>\n",
       "      <td>float64</td>\n",
       "      <td>183</td>\n",
       "      <td>0.178364</td>\n",
       "      <td>476</td>\n",
       "    </tr>\n",
       "    <tr>\n",
       "      <th>country code</th>\n",
       "      <td>object</td>\n",
       "      <td>131</td>\n",
       "      <td>0.127682</td>\n",
       "      <td>1</td>\n",
       "    </tr>\n",
       "    <tr>\n",
       "      <th>instant_bookable</th>\n",
       "      <td>object</td>\n",
       "      <td>105</td>\n",
       "      <td>0.102340</td>\n",
       "      <td>2</td>\n",
       "    </tr>\n",
       "    <tr>\n",
       "      <th>cancellation_policy</th>\n",
       "      <td>object</td>\n",
       "      <td>76</td>\n",
       "      <td>0.074075</td>\n",
       "      <td>3</td>\n",
       "    </tr>\n",
       "    <tr>\n",
       "      <th>neighbourhood group</th>\n",
       "      <td>object</td>\n",
       "      <td>29</td>\n",
       "      <td>0.028265</td>\n",
       "      <td>7</td>\n",
       "    </tr>\n",
       "    <tr>\n",
       "      <th>neighbourhood</th>\n",
       "      <td>object</td>\n",
       "      <td>16</td>\n",
       "      <td>0.015595</td>\n",
       "      <td>224</td>\n",
       "    </tr>\n",
       "    <tr>\n",
       "      <th>lat</th>\n",
       "      <td>float64</td>\n",
       "      <td>8</td>\n",
       "      <td>0.007797</td>\n",
       "      <td>21991</td>\n",
       "    </tr>\n",
       "    <tr>\n",
       "      <th>long</th>\n",
       "      <td>float64</td>\n",
       "      <td>8</td>\n",
       "      <td>0.007797</td>\n",
       "      <td>17774</td>\n",
       "    </tr>\n",
       "    <tr>\n",
       "      <th>id</th>\n",
       "      <td>int64</td>\n",
       "      <td>0</td>\n",
       "      <td>0.000000</td>\n",
       "      <td>102058</td>\n",
       "    </tr>\n",
       "    <tr>\n",
       "      <th>host id</th>\n",
       "      <td>int64</td>\n",
       "      <td>0</td>\n",
       "      <td>0.000000</td>\n",
       "      <td>102057</td>\n",
       "    </tr>\n",
       "    <tr>\n",
       "      <th>room type</th>\n",
       "      <td>object</td>\n",
       "      <td>0</td>\n",
       "      <td>0.000000</td>\n",
       "      <td>4</td>\n",
       "    </tr>\n",
       "    <tr>\n",
       "      <th>had_review</th>\n",
       "      <td>int64</td>\n",
       "      <td>0</td>\n",
       "      <td>0.000000</td>\n",
       "      <td>2</td>\n",
       "    </tr>\n",
       "  </tbody>\n",
       "</table>\n",
       "</div>"
      ],
      "text/plain": [
       "                                     Data Type  Missing Count  Missing %  \\\n",
       "license                                 object         102597  99.998051   \n",
       "house_rules                             object          52131  50.810437   \n",
       "last review                     datetime64[ns]          15893  15.490404   \n",
       "reviews per month                      float64          15879  15.476759   \n",
       "country                                 object            532   0.518524   \n",
       "availability 365                       float64            448   0.436651   \n",
       "minimum nights                         float64            409   0.398639   \n",
       "host name                               object            406   0.395715   \n",
       "review rate number                     float64            326   0.317742   \n",
       "calculated host listings count         float64            319   0.310919   \n",
       "host_identity_verified                  object            289   0.281679   \n",
       "service fee                             object            273   0.266084   \n",
       "NAME                                    object            250   0.243667   \n",
       "price                                  float64            247   0.240743   \n",
       "Construction year                      float64            214   0.208579   \n",
       "number of reviews                      float64            183   0.178364   \n",
       "country code                            object            131   0.127682   \n",
       "instant_bookable                        object            105   0.102340   \n",
       "cancellation_policy                     object             76   0.074075   \n",
       "neighbourhood group                     object             29   0.028265   \n",
       "neighbourhood                           object             16   0.015595   \n",
       "lat                                    float64              8   0.007797   \n",
       "long                                   float64              8   0.007797   \n",
       "id                                       int64              0   0.000000   \n",
       "host id                                  int64              0   0.000000   \n",
       "room type                               object              0   0.000000   \n",
       "had_review                               int64              0   0.000000   \n",
       "\n",
       "                                Unique Values  \n",
       "license                                     1  \n",
       "house_rules                              1976  \n",
       "last review                              2477  \n",
       "reviews per month                        1016  \n",
       "country                                     1  \n",
       "availability 365                          438  \n",
       "minimum nights                            153  \n",
       "host name                               13190  \n",
       "review rate number                          5  \n",
       "calculated host listings count             78  \n",
       "host_identity_verified                      2  \n",
       "service fee                               231  \n",
       "NAME                                    61281  \n",
       "price                                    1151  \n",
       "Construction year                          20  \n",
       "number of reviews                         476  \n",
       "country code                                1  \n",
       "instant_bookable                            2  \n",
       "cancellation_policy                         3  \n",
       "neighbourhood group                         7  \n",
       "neighbourhood                             224  \n",
       "lat                                     21991  \n",
       "long                                    17774  \n",
       "id                                     102058  \n",
       "host id                                102057  \n",
       "room type                                   4  \n",
       "had_review                                  2  "
      ]
     },
     "execution_count": 27,
     "metadata": {},
     "output_type": "execute_result"
    }
   ],
   "source": [
    "def column_summary(df):\n",
    "    return pd.DataFrame({\n",
    "        'Data Type': df.dtypes,\n",
    "        'Missing Count': df.isnull().sum(),\n",
    "        'Missing %': (df.isnull().sum() / len(df)) * 100,\n",
    "        'Unique Values': df.nunique()\n",
    "    }).sort_values(by='Missing %', ascending=False)\n",
    "\n",
    "\n",
    "column_summary(df_cleaned)"
   ]
  },
  {
   "cell_type": "markdown",
   "id": "3542899f",
   "metadata": {},
   "source": [
    "filling the NA with predefined values"
   ]
  },
  {
   "cell_type": "code",
   "execution_count": 28,
   "id": "6d01e11a",
   "metadata": {},
   "outputs": [
    {
     "data": {
      "text/html": [
       "<div>\n",
       "<style scoped>\n",
       "    .dataframe tbody tr th:only-of-type {\n",
       "        vertical-align: middle;\n",
       "    }\n",
       "\n",
       "    .dataframe tbody tr th {\n",
       "        vertical-align: top;\n",
       "    }\n",
       "\n",
       "    .dataframe thead th {\n",
       "        text-align: right;\n",
       "    }\n",
       "</style>\n",
       "<table border=\"1\" class=\"dataframe\">\n",
       "  <thead>\n",
       "    <tr style=\"text-align: right;\">\n",
       "      <th></th>\n",
       "      <th>id</th>\n",
       "      <th>NAME</th>\n",
       "      <th>host id</th>\n",
       "      <th>host_identity_verified</th>\n",
       "      <th>host name</th>\n",
       "      <th>neighbourhood group</th>\n",
       "      <th>neighbourhood</th>\n",
       "      <th>lat</th>\n",
       "      <th>long</th>\n",
       "      <th>country</th>\n",
       "      <th>...</th>\n",
       "      <th>minimum nights</th>\n",
       "      <th>number of reviews</th>\n",
       "      <th>last review</th>\n",
       "      <th>reviews per month</th>\n",
       "      <th>review rate number</th>\n",
       "      <th>calculated host listings count</th>\n",
       "      <th>availability 365</th>\n",
       "      <th>house_rules</th>\n",
       "      <th>license</th>\n",
       "      <th>had_review</th>\n",
       "    </tr>\n",
       "  </thead>\n",
       "  <tbody>\n",
       "    <tr>\n",
       "      <th>0</th>\n",
       "      <td>1001254</td>\n",
       "      <td>Clean &amp; quiet apt home by the park</td>\n",
       "      <td>80014485718</td>\n",
       "      <td>unconfirmed</td>\n",
       "      <td>Madaline</td>\n",
       "      <td>Brooklyn</td>\n",
       "      <td>Kensington</td>\n",
       "      <td>40.64749</td>\n",
       "      <td>-73.97237</td>\n",
       "      <td>United States</td>\n",
       "      <td>...</td>\n",
       "      <td>10.0</td>\n",
       "      <td>9.0</td>\n",
       "      <td>2021-10-19</td>\n",
       "      <td>0.21</td>\n",
       "      <td>4.0</td>\n",
       "      <td>6.0</td>\n",
       "      <td>286.0</td>\n",
       "      <td>Clean up and treat the home the way you'd like...</td>\n",
       "      <td>NaN</td>\n",
       "      <td>1</td>\n",
       "    </tr>\n",
       "    <tr>\n",
       "      <th>1</th>\n",
       "      <td>1002102</td>\n",
       "      <td>Skylit Midtown Castle</td>\n",
       "      <td>52335172823</td>\n",
       "      <td>verified</td>\n",
       "      <td>Jenna</td>\n",
       "      <td>Manhattan</td>\n",
       "      <td>Midtown</td>\n",
       "      <td>40.75362</td>\n",
       "      <td>-73.98377</td>\n",
       "      <td>United States</td>\n",
       "      <td>...</td>\n",
       "      <td>30.0</td>\n",
       "      <td>45.0</td>\n",
       "      <td>2022-05-21</td>\n",
       "      <td>0.38</td>\n",
       "      <td>4.0</td>\n",
       "      <td>2.0</td>\n",
       "      <td>228.0</td>\n",
       "      <td>Pet friendly but please confirm with me if the...</td>\n",
       "      <td>NaN</td>\n",
       "      <td>1</td>\n",
       "    </tr>\n",
       "  </tbody>\n",
       "</table>\n",
       "<p>2 rows × 27 columns</p>\n",
       "</div>"
      ],
      "text/plain": [
       "        id                                NAME      host id  \\\n",
       "0  1001254  Clean & quiet apt home by the park  80014485718   \n",
       "1  1002102               Skylit Midtown Castle  52335172823   \n",
       "\n",
       "  host_identity_verified host name neighbourhood group neighbourhood  \\\n",
       "0            unconfirmed  Madaline            Brooklyn    Kensington   \n",
       "1               verified     Jenna           Manhattan       Midtown   \n",
       "\n",
       "        lat      long        country  ... minimum nights number of reviews  \\\n",
       "0  40.64749 -73.97237  United States  ...           10.0               9.0   \n",
       "1  40.75362 -73.98377  United States  ...           30.0              45.0   \n",
       "\n",
       "  last review reviews per month  review rate number  \\\n",
       "0  2021-10-19              0.21                 4.0   \n",
       "1  2022-05-21              0.38                 4.0   \n",
       "\n",
       "   calculated host listings count availability 365  \\\n",
       "0                             6.0            286.0   \n",
       "1                             2.0            228.0   \n",
       "\n",
       "                                         house_rules  license had_review  \n",
       "0  Clean up and treat the home the way you'd like...      NaN          1  \n",
       "1  Pet friendly but please confirm with me if the...      NaN          1  \n",
       "\n",
       "[2 rows x 27 columns]"
      ]
     },
     "execution_count": 28,
     "metadata": {},
     "output_type": "execute_result"
    }
   ],
   "source": [
    "df_cleaned['NAME'] = df_cleaned['NAME'].fillna('Unknown')\n",
    "\n",
    "\n",
    "df_cleaned['host name'] = df_cleaned['host name'].fillna('Unknown')\n",
    "\n",
    "df_cleaned['neighbourhood group'] = df_cleaned['neighbourhood group'].fillna(df_cleaned['neighbourhood group'].mode()[0])\n",
    "\n",
    "df_cleaned['neighbourhood'] = df_cleaned['neighbourhood'].fillna(df_cleaned['neighbourhood'].mode()[0])\n",
    "\n",
    "df_cleaned['reviews per month'] = df_cleaned['reviews per month'].fillna(df_cleaned['reviews per month'].median())\n",
    "\n",
    "\n",
    "df_cleaned.head(2)\n"
   ]
  },
  {
   "cell_type": "markdown",
   "id": "7776ccd4",
   "metadata": {},
   "source": [
    "To perform a visual assessment of the distribution and potential outliers in the price column of the Airbnb NYC dataset."
   ]
  },
  {
   "cell_type": "code",
   "execution_count": 29,
   "id": "e81676b6",
   "metadata": {},
   "outputs": [
    {
     "data": {
      "text/plain": [
       "count    102352.000000\n",
       "mean        625.293536\n",
       "std         331.671614\n",
       "min          50.000000\n",
       "25%         340.000000\n",
       "50%         624.000000\n",
       "75%         913.000000\n",
       "max        1200.000000\n",
       "Name: price, dtype: float64"
      ]
     },
     "execution_count": 29,
     "metadata": {},
     "output_type": "execute_result"
    }
   ],
   "source": [
    "df_cleaned['price'].describe()"
   ]
  },
  {
   "cell_type": "markdown",
   "id": "62dd7a58",
   "metadata": {},
   "source": [
    "Histograms show the frequency of different price ranges, which helps in detecting skewness or common pricing tiers."
   ]
  },
  {
   "cell_type": "code",
   "execution_count": 30,
   "id": "bcb551ed",
   "metadata": {},
   "outputs": [
    {
     "data": {
      "image/png": "[encoded data removed]",
      "text/plain": [
       "<Figure size 1000x500 with 1 Axes>"
      ]
     },
     "metadata": {},
     "output_type": "display_data"
    }
   ],
   "source": [
    "import matplotlib.pyplot as plt\n",
    "import seaborn as sns\n",
    "\n",
    "sns.set(style='whitegrid')\n",
    "\n",
    "plt.figure(figsize=(10,5))\n",
    "sns.histplot(df_cleaned['price'],bins=500,kde=False)\n",
    "plt.title('Distrution of price ranges')\n",
    "plt.xlabel('price')\n",
    "plt.ylabel('number of listings')\n",
    "plt.show()"
   ]
  },
  {
   "cell_type": "markdown",
   "id": "dec8f5f3",
   "metadata": {},
   "source": [
    "box plot for outliers detection\n"
   ]
  },
  {
   "cell_type": "code",
   "execution_count": 31,
   "id": "763a39ac",
   "metadata": {},
   "outputs": [
    {
     "data": {
      "image/png": "[encoded data removed]",
      "text/plain": [
       "<Figure size 640x480 with 1 Axes>"
      ]
     },
     "metadata": {},
     "output_type": "display_data"
    }
   ],
   "source": [
    "plt.Figure(figsize=(10,5))\n",
    "\n",
    "sns.boxplot(x=df_cleaned['price'])\n",
    "plt.title('Boxplot of Airbnb Prices')\n",
    "plt.xlabel('price')\n",
    "plt.show()"
   ]
  },
  {
   "cell_type": "markdown",
   "id": "012b2d79",
   "metadata": {},
   "source": [
    "calculate IQR and percentiles\n",
    "\n",
    "Low IQR (like Dataset A)\tMost listings follow a common pricing strategy. You can forecast pricing or demand more reliably.\n",
    "\n",
    "High IQR (like Dataset B)\tThere's greater pricing diversity — may indicate multiple market segments (budget vs premium)."
   ]
  },
  {
   "cell_type": "code",
   "execution_count": 32,
   "id": "4e935fe8",
   "metadata": {},
   "outputs": [
    {
     "name": "stdout",
     "output_type": "stream",
     "text": [
      "q1 = 340.0, q2 = 624.0, q3 = 913.0, IQR = 573.0\n"
     ]
    }
   ],
   "source": [
    "q1 = df_cleaned['price'].quantile(0.25)\n",
    "q2 = df_cleaned['price'].quantile(0.50)\n",
    "q3 = df_cleaned['price'].quantile(0.75)\n",
    "\n",
    "IQR = q3-q1\n",
    "\n",
    "print(f\"q1 = {q1}, q2 = {q2}, q3 = {q3}, IQR = {IQR}\")"
   ]
  },
  {
   "cell_type": "markdown",
   "id": "446120dd",
   "metadata": {},
   "source": [
    "lower bound and upper bound"
   ]
  },
  {
   "cell_type": "code",
   "execution_count": 33,
   "id": "17c9222a",
   "metadata": {},
   "outputs": [
    {
     "name": "stdout",
     "output_type": "stream",
     "text": [
      "lower_bound : -519.5 \n",
      " upper_bound : 1772.5\n"
     ]
    }
   ],
   "source": [
    "lower_bound = q1 - 1.5 * IQR\n",
    "\n",
    "upper_bound = q3 + 1.5 * IQR\n",
    "\n",
    "print(f\"lower_bound : {lower_bound} \\n upper_bound : {upper_bound}\")"
   ]
  },
  {
   "cell_type": "markdown",
   "id": "7b956234",
   "metadata": {},
   "source": [
    "find the low and high outliers"
   ]
  },
  {
   "cell_type": "code",
   "execution_count": 34,
   "id": "c0a59074",
   "metadata": {},
   "outputs": [
    {
     "name": "stdout",
     "output_type": "stream",
     "text": [
      "price\n",
      "False    102599\n",
      "Name: count, dtype: int64 price\n",
      "False    102599\n",
      "Name: count, dtype: int64\n"
     ]
    }
   ],
   "source": [
    "outlier_low = df_cleaned['price']<lower_bound\n",
    "\n",
    "outlier_high = df_cleaned['price']>upper_bound\n",
    "\n",
    "print(outlier_high.value_counts(),outlier_low.value_counts())\n",
    "\n",
    "# df_outliers_filtered = df_cleaned[(df_cleaned['price']<= lower_bound) & (df_cleaned['price']>= upper_bound)].copy()"
   ]
  },
  {
   "cell_type": "code",
   "execution_count": 35,
   "id": "3aa1a691",
   "metadata": {},
   "outputs": [
    {
     "data": {
      "text/plain": [
       "count    102352.000000\n",
       "mean        625.293536\n",
       "min          50.000000\n",
       "25%         340.000000\n",
       "50%         624.000000\n",
       "75%         913.000000\n",
       "max        1200.000000\n",
       "std         331.671614\n",
       "Name: price, dtype: float64"
      ]
     },
     "execution_count": 35,
     "metadata": {},
     "output_type": "execute_result"
    }
   ],
   "source": [
    "df_cleaned.describe()['price']"
   ]
  },
  {
   "cell_type": "code",
   "execution_count": 36,
   "id": "a0584d20",
   "metadata": {},
   "outputs": [
    {
     "data": {
      "text/plain": [
       "neighbourhood group\n",
       "Manhattan        43821\n",
       "Brooklyn         41842\n",
       "Queens           13267\n",
       "Bronx             2712\n",
       "Staten Island      955\n",
       "brookln              1\n",
       "manhatan             1\n",
       "Name: count, dtype: int64"
      ]
     },
     "execution_count": 36,
     "metadata": {},
     "output_type": "execute_result"
    }
   ],
   "source": [
    "pd.DataFrame(df_cleaned['neighbourhood group'].value_counts())\n",
    "\n",
    "df_cleaned['neighbourhood group'].unique()\n",
    "\n",
    "df_cleaned['neighbourhood group'].value_counts()"
   ]
  },
  {
   "cell_type": "markdown",
   "id": "dbafe029",
   "metadata": {},
   "source": [
    "Assess Uniqueness & Cardinality\n",
    "\n",
    "Check how many distinct values exist (nunique)\n",
    "\n",
    "Spot unexpected or inconsistent entries (e.g., misspellings, case issues)\n",
    "\n"
   ]
  },
  {
   "cell_type": "code",
   "execution_count": 37,
   "id": "3eaa68e0",
   "metadata": {},
   "outputs": [
    {
     "name": "stdout",
     "output_type": "stream",
     "text": [
      "max state is Manhattan with count of 43822 and min state is Staten Island with count of 955\n",
      "['Brooklyn' 'Manhattan' 'Queens' 'Staten Island' 'Bronx']\n"
     ]
    },
    {
     "name": "stderr",
     "output_type": "stream",
     "text": [
      "C:\\Users\\USER\\AppData\\Local\\Temp\\ipykernel_13984\\1246781179.py:1: FutureWarning: A value is trying to be set on a copy of a DataFrame or Series through chained assignment using an inplace method.\n",
      "The behavior will change in pandas 3.0. This inplace method will never work because the intermediate object on which we are setting values always behaves as a copy.\n",
      "\n",
      "For example, when doing 'df[col].method(value, inplace=True)', try using 'df.method({col: value}, inplace=True)' or df[col] = df[col].method(value) instead, to perform the operation inplace on the original object.\n",
      "\n",
      "\n",
      "  df_cleaned['neighbourhood group'].replace({'brookln' : 'Brooklyn',\n"
     ]
    },
    {
     "data": {
      "text/plain": [
       "neighbourhood group\n",
       "Manhattan        43822\n",
       "Brooklyn         41843\n",
       "Queens           13267\n",
       "Bronx             2712\n",
       "Staten Island      955\n",
       "Name: count, dtype: int64"
      ]
     },
     "execution_count": 37,
     "metadata": {},
     "output_type": "execute_result"
    }
   ],
   "source": [
    "df_cleaned['neighbourhood group'].replace({'brookln' : 'Brooklyn',\n",
    "                                          'manhatan':'Manhattan'}, inplace=True)\n",
    "\n",
    "df_cleaned['neighbourhood group'] = df_cleaned['neighbourhood group'].str.title()\n",
    "\n",
    "max_state_name = df_cleaned['neighbourhood group'].value_counts().idxmax()\n",
    "max_state_count = df_cleaned['neighbourhood group'].value_counts().max()\n",
    "\n",
    "min_state_name = df_cleaned['neighbourhood group'].value_counts().idxmin()\n",
    "min_state_count = df_cleaned['neighbourhood group'].value_counts().min()\n",
    "\n",
    "\n",
    "\n",
    "print(f\"max state is {max_state_name} with count of {max_state_count} and min state is {min_state_name} with count of {min_state_count}\")\n",
    "\n",
    "print(df_cleaned['neighbourhood group'].unique())\n",
    "\n",
    "df_cleaned['neighbourhood group'].value_counts()\n",
    "\n"
   ]
  },
  {
   "cell_type": "markdown",
   "id": "733a66c7",
   "metadata": {},
   "source": [
    "validdating room types"
   ]
  },
  {
   "cell_type": "code",
   "execution_count": 38,
   "id": "7ee0b379",
   "metadata": {},
   "outputs": [
    {
     "data": {
      "text/plain": [
       "np.int64(0)"
      ]
     },
     "execution_count": 38,
     "metadata": {},
     "output_type": "execute_result"
    }
   ],
   "source": [
    "df_cleaned['room type'].unique()\n",
    "\n",
    "df_cleaned['room type'].isnull().sum()"
   ]
  },
  {
   "cell_type": "markdown",
   "id": "c7b783f4",
   "metadata": {},
   "source": [
    "Import this as a CSV file"
   ]
  },
  {
   "cell_type": "code",
   "execution_count": 39,
   "id": "7fdc2abd",
   "metadata": {},
   "outputs": [],
   "source": [
    "# Adjust the path to go up one directory and then to 'data/cleaned'\n",
    "df_cleaned.to_csv('../data/cleaned/cleaned_airbnb_nyc_data.csv', index=False)\n"
   ]
  }
 ],
 "metadata": {
  "kernelspec": {
   "display_name": "Python 3",
   "language": "python",
   "name": "python3"
  },
  "language_info": {
   "codemirror_mode": {
    "name": "ipython",
    "version": 3
   },
   "file_extension": ".py",
   "mimetype": "text/x-python",
   "name": "python",
   "nbconvert_exporter": "python",
   "pygments_lexer": "ipython3",
   "version": "3.13.2"
  }
 },
 "nbformat": 4,
 "nbformat_minor": 5
}
